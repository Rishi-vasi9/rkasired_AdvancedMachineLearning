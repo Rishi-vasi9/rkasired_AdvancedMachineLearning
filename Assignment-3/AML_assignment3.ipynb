{
  "cells": [
    {
      "cell_type": "markdown",
      "metadata": {
        "id": "Ht6wiWTUadhr"
      },
      "source": [
        "#A temperature-forecasting ex-  data Uploaded from amazon Web Services (AWS) /keras"
      ]
    },
    {
      "cell_type": "code",
      "source": [
        "!pip install tensorflow==2.12"
      ],
      "metadata": {
        "id": "h_5xZXTe3o7p",
        "outputId": "24a3dc30-9d72-4d5e-994a-1117586530a0",
        "colab": {
          "base_uri": "https://localhost:8080/"
        }
      },
      "execution_count": 4,
      "outputs": [
        {
          "output_type": "stream",
          "name": "stdout",
          "text": [
            "Requirement already satisfied: tensorflow==2.12 in /usr/local/lib/python3.10/dist-packages (2.12.0)\n",
            "Requirement already satisfied: absl-py>=1.0.0 in /usr/local/lib/python3.10/dist-packages (from tensorflow==2.12) (1.4.0)\n",
            "Requirement already satisfied: astunparse>=1.6.0 in /usr/local/lib/python3.10/dist-packages (from tensorflow==2.12) (1.6.3)\n",
            "Requirement already satisfied: flatbuffers>=2.0 in /usr/local/lib/python3.10/dist-packages (from tensorflow==2.12) (23.5.26)\n",
            "Requirement already satisfied: gast<=0.4.0,>=0.2.1 in /usr/local/lib/python3.10/dist-packages (from tensorflow==2.12) (0.4.0)\n",
            "Requirement already satisfied: google-pasta>=0.1.1 in /usr/local/lib/python3.10/dist-packages (from tensorflow==2.12) (0.2.0)\n",
            "Requirement already satisfied: grpcio<2.0,>=1.24.3 in /usr/local/lib/python3.10/dist-packages (from tensorflow==2.12) (1.59.0)\n",
            "Requirement already satisfied: h5py>=2.9.0 in /usr/local/lib/python3.10/dist-packages (from tensorflow==2.12) (3.9.0)\n",
            "Requirement already satisfied: jax>=0.3.15 in /usr/local/lib/python3.10/dist-packages (from tensorflow==2.12) (0.4.16)\n",
            "Requirement already satisfied: keras<2.13,>=2.12.0 in /usr/local/lib/python3.10/dist-packages (from tensorflow==2.12) (2.12.0)\n",
            "Requirement already satisfied: libclang>=13.0.0 in /usr/local/lib/python3.10/dist-packages (from tensorflow==2.12) (16.0.6)\n",
            "Requirement already satisfied: numpy<1.24,>=1.22 in /usr/local/lib/python3.10/dist-packages (from tensorflow==2.12) (1.23.5)\n",
            "Requirement already satisfied: opt-einsum>=2.3.2 in /usr/local/lib/python3.10/dist-packages (from tensorflow==2.12) (3.3.0)\n",
            "Requirement already satisfied: packaging in /usr/local/lib/python3.10/dist-packages (from tensorflow==2.12) (23.2)\n",
            "Requirement already satisfied: protobuf!=4.21.0,!=4.21.1,!=4.21.2,!=4.21.3,!=4.21.4,!=4.21.5,<5.0.0dev,>=3.20.3 in /usr/local/lib/python3.10/dist-packages (from tensorflow==2.12) (3.20.3)\n",
            "Requirement already satisfied: setuptools in /usr/local/lib/python3.10/dist-packages (from tensorflow==2.12) (67.7.2)\n",
            "Requirement already satisfied: six>=1.12.0 in /usr/local/lib/python3.10/dist-packages (from tensorflow==2.12) (1.16.0)\n",
            "Requirement already satisfied: tensorboard<2.13,>=2.12 in /usr/local/lib/python3.10/dist-packages (from tensorflow==2.12) (2.12.3)\n",
            "Requirement already satisfied: tensorflow-estimator<2.13,>=2.12.0 in /usr/local/lib/python3.10/dist-packages (from tensorflow==2.12) (2.12.0)\n",
            "Requirement already satisfied: termcolor>=1.1.0 in /usr/local/lib/python3.10/dist-packages (from tensorflow==2.12) (2.3.0)\n",
            "Requirement already satisfied: typing-extensions>=3.6.6 in /usr/local/lib/python3.10/dist-packages (from tensorflow==2.12) (4.5.0)\n",
            "Requirement already satisfied: wrapt<1.15,>=1.11.0 in /usr/local/lib/python3.10/dist-packages (from tensorflow==2.12) (1.14.1)\n",
            "Requirement already satisfied: tensorflow-io-gcs-filesystem>=0.23.1 in /usr/local/lib/python3.10/dist-packages (from tensorflow==2.12) (0.34.0)\n",
            "Requirement already satisfied: wheel<1.0,>=0.23.0 in /usr/local/lib/python3.10/dist-packages (from astunparse>=1.6.0->tensorflow==2.12) (0.41.2)\n",
            "Requirement already satisfied: ml-dtypes>=0.2.0 in /usr/local/lib/python3.10/dist-packages (from jax>=0.3.15->tensorflow==2.12) (0.2.0)\n",
            "Requirement already satisfied: scipy>=1.7 in /usr/local/lib/python3.10/dist-packages (from jax>=0.3.15->tensorflow==2.12) (1.11.3)\n",
            "Requirement already satisfied: google-auth<3,>=1.6.3 in /usr/local/lib/python3.10/dist-packages (from tensorboard<2.13,>=2.12->tensorflow==2.12) (2.17.3)\n",
            "Requirement already satisfied: google-auth-oauthlib<1.1,>=0.5 in /usr/local/lib/python3.10/dist-packages (from tensorboard<2.13,>=2.12->tensorflow==2.12) (1.0.0)\n",
            "Requirement already satisfied: markdown>=2.6.8 in /usr/local/lib/python3.10/dist-packages (from tensorboard<2.13,>=2.12->tensorflow==2.12) (3.5)\n",
            "Requirement already satisfied: requests<3,>=2.21.0 in /usr/local/lib/python3.10/dist-packages (from tensorboard<2.13,>=2.12->tensorflow==2.12) (2.31.0)\n",
            "Requirement already satisfied: tensorboard-data-server<0.8.0,>=0.7.0 in /usr/local/lib/python3.10/dist-packages (from tensorboard<2.13,>=2.12->tensorflow==2.12) (0.7.2)\n",
            "Requirement already satisfied: werkzeug>=1.0.1 in /usr/local/lib/python3.10/dist-packages (from tensorboard<2.13,>=2.12->tensorflow==2.12) (3.0.1)\n",
            "Requirement already satisfied: cachetools<6.0,>=2.0.0 in /usr/local/lib/python3.10/dist-packages (from google-auth<3,>=1.6.3->tensorboard<2.13,>=2.12->tensorflow==2.12) (5.3.2)\n",
            "Requirement already satisfied: pyasn1-modules>=0.2.1 in /usr/local/lib/python3.10/dist-packages (from google-auth<3,>=1.6.3->tensorboard<2.13,>=2.12->tensorflow==2.12) (0.3.0)\n",
            "Requirement already satisfied: rsa<5,>=3.1.4 in /usr/local/lib/python3.10/dist-packages (from google-auth<3,>=1.6.3->tensorboard<2.13,>=2.12->tensorflow==2.12) (4.9)\n",
            "Requirement already satisfied: requests-oauthlib>=0.7.0 in /usr/local/lib/python3.10/dist-packages (from google-auth-oauthlib<1.1,>=0.5->tensorboard<2.13,>=2.12->tensorflow==2.12) (1.3.1)\n",
            "Requirement already satisfied: charset-normalizer<4,>=2 in /usr/local/lib/python3.10/dist-packages (from requests<3,>=2.21.0->tensorboard<2.13,>=2.12->tensorflow==2.12) (3.3.1)\n",
            "Requirement already satisfied: idna<4,>=2.5 in /usr/local/lib/python3.10/dist-packages (from requests<3,>=2.21.0->tensorboard<2.13,>=2.12->tensorflow==2.12) (3.4)\n",
            "Requirement already satisfied: urllib3<3,>=1.21.1 in /usr/local/lib/python3.10/dist-packages (from requests<3,>=2.21.0->tensorboard<2.13,>=2.12->tensorflow==2.12) (2.0.7)\n",
            "Requirement already satisfied: certifi>=2017.4.17 in /usr/local/lib/python3.10/dist-packages (from requests<3,>=2.21.0->tensorboard<2.13,>=2.12->tensorflow==2.12) (2023.7.22)\n",
            "Requirement already satisfied: MarkupSafe>=2.1.1 in /usr/local/lib/python3.10/dist-packages (from werkzeug>=1.0.1->tensorboard<2.13,>=2.12->tensorflow==2.12) (2.1.3)\n",
            "Requirement already satisfied: pyasn1<0.6.0,>=0.4.6 in /usr/local/lib/python3.10/dist-packages (from pyasn1-modules>=0.2.1->google-auth<3,>=1.6.3->tensorboard<2.13,>=2.12->tensorflow==2.12) (0.5.0)\n",
            "Requirement already satisfied: oauthlib>=3.0.0 in /usr/local/lib/python3.10/dist-packages (from requests-oauthlib>=0.7.0->google-auth-oauthlib<1.1,>=0.5->tensorboard<2.13,>=2.12->tensorflow==2.12) (3.2.2)\n"
          ]
        }
      ]
    },
    {
      "cell_type": "code",
      "source": [
        "!wget https://s3.amazonaws.com/keras-datasets/jena_climate_2009_2016.csv.zip\n",
        "!unzip jena_climate_2009_2016.csv.zip"
      ],
      "metadata": {
        "id": "UCXj9nuO3vrR",
        "outputId": "ac15006a-4f35-4e5d-ab00-1ef67f30463a",
        "colab": {
          "base_uri": "https://localhost:8080/"
        }
      },
      "execution_count": 5,
      "outputs": [
        {
          "output_type": "stream",
          "name": "stdout",
          "text": [
            "--2023-11-06 01:32:21--  https://s3.amazonaws.com/keras-datasets/jena_climate_2009_2016.csv.zip\n",
            "Resolving s3.amazonaws.com (s3.amazonaws.com)... 52.217.101.70, 16.182.71.224, 16.182.105.168, ...\n",
            "Connecting to s3.amazonaws.com (s3.amazonaws.com)|52.217.101.70|:443... connected.\n",
            "HTTP request sent, awaiting response... 200 OK\n",
            "Length: 13565642 (13M) [application/zip]\n",
            "Saving to: ‘jena_climate_2009_2016.csv.zip’\n",
            "\n",
            "jena_climate_2009_2 100%[===================>]  12.94M  14.9MB/s    in 0.9s    \n",
            "\n",
            "2023-11-06 01:32:22 (14.9 MB/s) - ‘jena_climate_2009_2016.csv.zip’ saved [13565642/13565642]\n",
            "\n",
            "Archive:  jena_climate_2009_2016.csv.zip\n",
            "  inflating: jena_climate_2009_2016.csv  \n",
            "  inflating: __MACOSX/._jena_climate_2009_2016.csv  \n"
          ]
        }
      ]
    },
    {
      "cell_type": "markdown",
      "metadata": {
        "id": "sYK44FNWadhs"
      },
      "source": [
        "Inspecting the data of the Jena weather dataset"
      ]
    },
    {
      "cell_type": "code",
      "execution_count": 7,
      "metadata": {
        "colab": {
          "base_uri": "https://localhost:8080/"
        },
        "id": "lMTLVLCfadhs",
        "outputId": "2c585bf4-594d-4664-a046-e11a9b20be4e"
      },
      "outputs": [
        {
          "output_type": "stream",
          "name": "stdout",
          "text": [
            "['\"Date Time\"', '\"p (mbar)\"', '\"T (degC)\"', '\"Tpot (K)\"', '\"Tdew (degC)\"', '\"rh (%)\"', '\"VPmax (mbar)\"', '\"VPact (mbar)\"', '\"VPdef (mbar)\"', '\"sh (g/kg)\"', '\"H2OC (mmol/mol)\"', '\"rho (g/m**3)\"', '\"wv (m/s)\"', '\"max. wv (m/s)\"', '\"wd (deg)\"']\n",
            "420451\n",
            "Number_of_variables: 15\n",
            "Number_of_rows: 420451\n"
          ]
        }
      ],
      "source": [
        "import os\n",
        "fname = os.path.join(\"jena_climate_2009_2016.csv\")\n",
        "\n",
        "with open(fname) as f:\n",
        "    data = f.read()\n",
        "\n",
        "lines = data.split(\"\\n\")\n",
        "header = lines[0].split(\",\")\n",
        "lines = lines[1:]\n",
        "print(header)\n",
        "print(len(lines))\n",
        "\n",
        "num_variables = len(header)\n",
        "print(\"Number_of_variables:\", num_variables)\n",
        "num_rows = len(lines)\n",
        "print(\"Number_of_rows:\", num_rows)"
      ]
    },
    {
      "cell_type": "markdown",
      "metadata": {
        "id": "yqBixbPpadhs"
      },
      "source": [
        "Parsing the data"
      ]
    },
    {
      "cell_type": "code",
      "execution_count": 8,
      "metadata": {
        "id": "02s2YX98adht"
      },
      "outputs": [],
      "source": [
        "import numpy as np\n",
        "temperature = np.zeros((len(lines),))\n",
        "raw_data = np.zeros((len(lines), len(header) - 1))\n",
        "for i, line in enumerate(lines):\n",
        "    values = [float(x) for x in line.split(\",\")[1:]]\n",
        "    temperature[i] = values[1]\n",
        "    raw_data[i, :] = values[:]"
      ]
    },
    {
      "cell_type": "markdown",
      "metadata": {
        "id": "Nqe29tjuadht"
      },
      "source": [
        "#Plot the temperature timeseries"
      ]
    },
    {
      "cell_type": "code",
      "execution_count": 9,
      "metadata": {
        "colab": {
          "base_uri": "https://localhost:8080/",
          "height": 471
        },
        "id": "xR7Ym3igadht",
        "outputId": "91a79bc6-459e-4dc1-ff2a-c5cef97b3576"
      },
      "outputs": [
        {
          "output_type": "execute_result",
          "data": {
            "text/plain": [
              "Text(0, 0.5, 'Temp')"
            ]
          },
          "metadata": {},
          "execution_count": 9
        },
        {
          "output_type": "display_data",
          "data": {
            "text/plain": [
              "<Figure size 640x480 with 1 Axes>"
            ],
            "image/png": "[encoded data removed]"
          },
          "metadata": {}
        }
      ],
      "source": [
        "from matplotlib import pyplot as plt\n",
        "plt.plot(range(len(temperature)), temperature)\n",
        "plt.xlabel('Data points')\n",
        "plt.ylabel('Temp')"
      ]
    },
    {
      "cell_type": "markdown",
      "metadata": {
        "id": "qdO-fsBradhu"
      },
      "source": [
        "#plotting the first 10 days of the temperature timeseries"
      ]
    },
    {
      "cell_type": "code",
      "execution_count": 10,
      "metadata": {
        "colab": {
          "base_uri": "https://localhost:8080/",
          "height": 467
        },
        "id": "QOqy3Jt8adhu",
        "outputId": "33340219-76d6-43bf-e110-affc621930c1"
      },
      "outputs": [
        {
          "output_type": "execute_result",
          "data": {
            "text/plain": [
              "Text(0, 0.5, 'Temp')"
            ]
          },
          "metadata": {},
          "execution_count": 10
        },
        {
          "output_type": "display_data",
          "data": {
            "text/plain": [
              "<Figure size 640x480 with 1 Axes>"
            ],
            "image/png": "[encoded data removed]"
          },
          "metadata": {}
        }
      ],
      "source": [
        "plt.plot(range(1440), temperature[:1440])\n",
        "plt.xlabel('Data points')\n",
        "plt.ylabel('Temp')"
      ]
    },
    {
      "cell_type": "markdown",
      "metadata": {
        "id": "xgIr3Ilradhu"
      },
      "source": [
        "#Computing the number of samples we'll use for each data split"
      ]
    },
    {
      "cell_type": "code",
      "execution_count": 11,
      "metadata": {
        "colab": {
          "base_uri": "https://localhost:8080/"
        },
        "id": "VUkBz7lAadhu",
        "outputId": "b9e20679-bbfe-43dc-a217-7dbb18fe2e3b"
      },
      "outputs": [
        {
          "output_type": "stream",
          "name": "stdout",
          "text": [
            "num_train_samples: 210225\n",
            "num_val_samples: 105112\n",
            "num_test_samples: 105114\n"
          ]
        }
      ],
      "source": [
        "num_train_samples = int(0.5 * len(raw_data))\n",
        "num_val_samples = int(0.25 * len(raw_data))\n",
        "num_test_samples = len(raw_data) - num_train_samples - num_val_samples\n",
        "print(\"num_train_samples:\", num_train_samples)\n",
        "print(\"num_val_samples:\", num_val_samples)\n",
        "print(\"num_test_samples:\", num_test_samples)"
      ]
    },
    {
      "cell_type": "markdown",
      "metadata": {
        "id": "oskMf-fiadhu"
      },
      "source": [
        "### **Preparing the data**"
      ]
    },
    {
      "cell_type": "markdown",
      "metadata": {
        "id": "LQ6NvHTCadhu"
      },
      "source": [
        "Normalizing the data"
      ]
    },
    {
      "cell_type": "code",
      "execution_count": 12,
      "metadata": {
        "id": "0rceRPDeadhu"
      },
      "outputs": [],
      "source": [
        "mean = raw_data[:num_train_samples].mean(axis=0)\n",
        "raw_data -= mean\n",
        "std = raw_data[:num_train_samples].std(axis=0)\n",
        "raw_data /= std"
      ]
    },
    {
      "cell_type": "code",
      "execution_count": 13,
      "metadata": {
        "colab": {
          "base_uri": "https://localhost:8080/"
        },
        "id": "qcZR4N6Ladhv",
        "outputId": "fa4278cc-b8eb-4d22-f70f-a89936fb4e06"
      },
      "outputs": [
        {
          "output_type": "stream",
          "name": "stdout",
          "text": [
            "[0, 1, 2] 3\n",
            "[1, 2, 3] 4\n",
            "[2, 3, 4] 5\n",
            "[3, 4, 5] 6\n",
            "[4, 5, 6] 7\n"
          ]
        }
      ],
      "source": [
        "import numpy as np\n",
        "from tensorflow import keras\n",
        "int_sequence = np.arange(10)\n",
        "dummy_dataset = keras.utils.timeseries_dataset_from_array(\n",
        "    data=int_sequence[:-3],\n",
        "    targets=int_sequence[3:],\n",
        "    sequence_length=3,\n",
        "    batch_size=2,\n",
        ")\n",
        "\n",
        "for inputs, targets in dummy_dataset:\n",
        "    for i in range(inputs.shape[0]):\n",
        "        print([int(x) for x in inputs[i]], int(targets[i]))"
      ]
    },
    {
      "cell_type": "markdown",
      "metadata": {
        "id": "tkBvDzUZadhv"
      },
      "source": [
        "#Instantiating datasets for training, validation, and testing"
      ]
    },
    {
      "cell_type": "code",
      "execution_count": 14,
      "metadata": {
        "id": "MwLXCDqpadhv"
      },
      "outputs": [],
      "source": [
        "sampling_rate = 6\n",
        "sequence_length = 120\n",
        "delay = sampling_rate * (sequence_length + 24 - 1)\n",
        "batch_size = 1536\n",
        "\n",
        "train_dataset = keras.utils.timeseries_dataset_from_array(\n",
        "    raw_data[:-delay],\n",
        "    targets=temperature[delay:],\n",
        "    sampling_rate=sampling_rate,\n",
        "    sequence_length=sequence_length,\n",
        "    shuffle=True,\n",
        "    batch_size=batch_size,\n",
        "    start_index=0,\n",
        "    end_index=num_train_samples)\n",
        "\n",
        "val_dataset = keras.utils.timeseries_dataset_from_array(\n",
        "    raw_data[:-delay],\n",
        "    targets=temperature[delay:],\n",
        "    sampling_rate=sampling_rate,\n",
        "    sequence_length=sequence_length,\n",
        "    shuffle=True,\n",
        "    batch_size=batch_size,\n",
        "    start_index=num_train_samples,\n",
        "    end_index=num_train_samples + num_val_samples)\n",
        "\n",
        "test_dataset = keras.utils.timeseries_dataset_from_array(\n",
        "    raw_data[:-delay],\n",
        "    targets=temperature[delay:],\n",
        "    sampling_rate=sampling_rate,\n",
        "    sequence_length=sequence_length,\n",
        "    shuffle=True,\n",
        "    batch_size=batch_size,\n",
        "    start_index=num_train_samples + num_val_samples)"
      ]
    },
    {
      "cell_type": "markdown",
      "metadata": {
        "id": "w_DppXTJadhv"
      },
      "source": [
        "#Inspecting the output of one of our datasets"
      ]
    },
    {
      "cell_type": "code",
      "execution_count": 15,
      "metadata": {
        "colab": {
          "base_uri": "https://localhost:8080/"
        },
        "id": "xG-1fMm6adhw",
        "outputId": "82356476-6300-4d69-dcf4-6abe0fe8a644"
      },
      "outputs": [
        {
          "output_type": "stream",
          "name": "stdout",
          "text": [
            "samples shape: (1536, 120, 14)\n",
            "targets shape: (1536,)\n"
          ]
        }
      ],
      "source": [
        "for samples, targets in train_dataset:\n",
        "    print(\"samples shape:\", samples.shape)\n",
        "    print(\"targets shape:\", targets.shape)\n",
        "    break"
      ]
    },
    {
      "cell_type": "markdown",
      "metadata": {
        "id": "cO70vvfZadhw"
      },
      "source": [
        "### **A common-sense, non-machine-learning baseline**"
      ]
    },
    {
      "cell_type": "markdown",
      "metadata": {
        "id": "TmImCc92adhw"
      },
      "source": [
        "#Computing the common-sense baseline MAE"
      ]
    },
    {
      "cell_type": "code",
      "execution_count": 16,
      "metadata": {
        "colab": {
          "base_uri": "https://localhost:8080/"
        },
        "id": "JCgOnX9yadhw",
        "outputId": "3e0efbd1-9226-4888-bb45-7767ea0faf71"
      },
      "outputs": [
        {
          "output_type": "stream",
          "name": "stdout",
          "text": [
            "Validation MAE: 2.44\n",
            "Test MAE: 2.62\n"
          ]
        }
      ],
      "source": [
        "def evaluate_naive_method(dataset):\n",
        "    total_abs_err = 0.\n",
        "    samples_seen = 0\n",
        "    for samples, targets in dataset:\n",
        "        preds = samples[:, -1, 1] * std[1] + mean[1]\n",
        "        total_abs_err += np.sum(np.abs(preds - targets))\n",
        "        samples_seen += samples.shape[0]\n",
        "    return total_abs_err / samples_seen\n",
        "\n",
        "print(f\"Validation MAE: {evaluate_naive_method(val_dataset):.2f}\")\n",
        "print(f\"Test MAE: {evaluate_naive_method(test_dataset):.2f}\")"
      ]
    },
    {
      "cell_type": "markdown",
      "source": [
        "Using a baseline approach that predicts similar temperature 24 hours ahead is common sense.Using this simple baseline, the validation MAE is 2.44 degrees Celsius, while the test MAE is 2.62 degrees Celsius.Therefore, an average deviation of approximately two and a half degrees would result if the temperature in the future remains the same as the current temperature."
      ],
      "metadata": {
        "id": "61EGs0LX9VC5"
      }
    },
    {
      "cell_type": "markdown",
      "source": [
        "### **A basic machine-learning model - Dense Layer**"
      ],
      "metadata": {
        "id": "O1iWeeFi6010"
      }
    },
    {
      "cell_type": "markdown",
      "source": [
        "Training and evaluating a densely connected model"
      ],
      "metadata": {
        "id": "sKOq_iqf61Jc"
      }
    },
    {
      "cell_type": "code",
      "source": [
        "from tensorflow import keras\n",
        "from tensorflow.keras import layers\n",
        "\n",
        "inputs = keras.Input(shape=(sequence_length, raw_data.shape[-1]))\n",
        "x = layers.Flatten()(inputs)\n",
        "x = layers.Dense(16, activation=\"relu\")(x)\n",
        "outputs = layers.Dense(1)(x)\n",
        "model = keras.Model(inputs, outputs)\n",
        "callbacks = [\n",
        "    keras.callbacks.ModelCheckpoint(\"jena_dense.keras\",\n",
        "                                    save_best_only=True)]\n",
        "model.compile(optimizer=\"rmsprop\", loss=\"mse\", metrics=[\"mae\"])\n",
        "history = model.fit(train_dataset, epochs=10,\n",
        "                    validation_data = val_dataset, callbacks=callbacks)\n"
      ],
      "metadata": {
        "id": "hsYv5wJ40otV",
        "colab": {
          "base_uri": "https://localhost:8080/"
        },
        "outputId": "fe18ffb8-1a1c-4d0c-8507-c6c6cbaf37b6"
      },
      "execution_count": 17,
      "outputs": [
        {
          "output_type": "stream",
          "name": "stdout",
          "text": [
            "Epoch 1/10\n",
            "137/137 [==============================] - 49s 302ms/step - loss: 22.2755 - mae: 3.6227 - val_loss: 11.5763 - val_mae: 2.6872\n",
            "Epoch 2/10\n",
            "137/137 [==============================] - 51s 365ms/step - loss: 11.9311 - mae: 2.7287 - val_loss: 13.9557 - val_mae: 2.9657\n",
            "Epoch 3/10\n",
            "137/137 [==============================] - 51s 359ms/step - loss: 11.0676 - mae: 2.6247 - val_loss: 11.1092 - val_mae: 2.6138\n",
            "Epoch 4/10\n",
            "137/137 [==============================] - 44s 311ms/step - loss: 10.4137 - mae: 2.5457 - val_loss: 11.3980 - val_mae: 2.6812\n",
            "Epoch 5/10\n",
            "137/137 [==============================] - 44s 308ms/step - loss: 10.0569 - mae: 2.4995 - val_loss: 10.6196 - val_mae: 2.5764\n",
            "Epoch 6/10\n",
            "137/137 [==============================] - 51s 362ms/step - loss: 9.6832 - mae: 2.4511 - val_loss: 10.4424 - val_mae: 2.5358\n",
            "Epoch 7/10\n",
            "137/137 [==============================] - 51s 365ms/step - loss: 9.4863 - mae: 2.4283 - val_loss: 10.8633 - val_mae: 2.6156\n",
            "Epoch 8/10\n",
            "137/137 [==============================] - 46s 321ms/step - loss: 9.2779 - mae: 2.4009 - val_loss: 10.5543 - val_mae: 2.5544\n",
            "Epoch 9/10\n",
            "137/137 [==============================] - 51s 367ms/step - loss: 9.0902 - mae: 2.3743 - val_loss: 10.6431 - val_mae: 2.5804\n",
            "Epoch 10/10\n",
            "137/137 [==============================] - 52s 368ms/step - loss: 8.9470 - mae: 2.3565 - val_loss: 11.2099 - val_mae: 2.6425\n"
          ]
        }
      ]
    },
    {
      "cell_type": "code",
      "source": [
        "model = keras.models.load_model(\"jena_dense.keras\")\n",
        "print(f\"Test MAE: {model.evaluate(test_dataset)[1]:.2f}\")"
      ],
      "metadata": {
        "id": "kzrdz2UF0-vU",
        "colab": {
          "base_uri": "https://localhost:8080/"
        },
        "outputId": "2baeacf8-746c-4d37-8b24-97d3d1590940"
      },
      "execution_count": 18,
      "outputs": [
        {
          "output_type": "stream",
          "name": "stdout",
          "text": [
            "68/68 [==============================] - 15s 189ms/step - loss: 11.9044 - mae: 2.7085\n",
            "Test MAE: 2.71\n"
          ]
        }
      ]
    },
    {
      "cell_type": "markdown",
      "metadata": {
        "id": "48vfJSUpadhx"
      },
      "source": [
        "Plotting results"
      ]
    },
    {
      "cell_type": "code",
      "execution_count": 19,
      "metadata": {
        "id": "1gmLvrfcadhx",
        "colab": {
          "base_uri": "https://localhost:8080/",
          "height": 472
        },
        "outputId": "f49d2939-2d03-4bbd-aee8-ecd0f3f9a321"
      },
      "outputs": [
        {
          "output_type": "display_data",
          "data": {
            "text/plain": [
              "<Figure size 640x480 with 1 Axes>"
            ],
            "image/png": "[encoded data removed]"
          },
          "metadata": {}
        }
      ],
      "source": [
        "import matplotlib.pyplot as plt\n",
        "loss = history.history[\"mae\"]\n",
        "val_loss = history.history[\"val_mae\"]\n",
        "\n",
        "epochs = range(1, len(loss) + 1)\n",
        "plt.figure()\n",
        "plt.plot(epochs, loss, color=\"grey\", linestyle=\"dashed\", label=\"Training MAE\")\n",
        "plt.plot(epochs,  val_loss, color=\"blue\",linestyle=\"dashed\", label=\"Validation MAE\")\n",
        "plt.title(\"Training and validation MAE\")\n",
        "plt.xlabel(\"Epochs\")\n",
        "plt.ylabel(\"MAE\")\n",
        "plt.legend()\n",
        "plt.show()"
      ]
    },
    {
      "cell_type": "markdown",
      "metadata": {
        "id": "uhcEYKo1adhx"
      },
      "source": [
        "#Let's try a 1D convolutional model"
      ]
    },
    {
      "cell_type": "code",
      "execution_count": 20,
      "metadata": {
        "id": "uQApil8Tadhx",
        "colab": {
          "base_uri": "https://localhost:8080/"
        },
        "outputId": "32a1806e-d2f0-45ee-b94e-db0792ecf391"
      },
      "outputs": [
        {
          "output_type": "stream",
          "name": "stdout",
          "text": [
            "Epoch 1/10\n",
            "137/137 [==============================] - 53s 321ms/step - loss: 35.6252 - mae: 4.5783 - val_loss: 21.0467 - val_mae: 3.5977\n",
            "Epoch 2/10\n",
            "137/137 [==============================] - 43s 305ms/step - loss: 21.3180 - mae: 3.6872 - val_loss: 19.1460 - val_mae: 3.4227\n",
            "Epoch 3/10\n",
            "137/137 [==============================] - 45s 311ms/step - loss: 19.1799 - mae: 3.4882 - val_loss: 17.2694 - val_mae: 3.2641\n",
            "Epoch 4/10\n",
            "137/137 [==============================] - 54s 384ms/step - loss: 17.5867 - mae: 3.3342 - val_loss: 15.3906 - val_mae: 3.1046\n",
            "Epoch 5/10\n",
            "137/137 [==============================] - 42s 295ms/step - loss: 16.5133 - mae: 3.2268 - val_loss: 16.3130 - val_mae: 3.1595\n",
            "Epoch 6/10\n",
            "137/137 [==============================] - 51s 361ms/step - loss: 15.7799 - mae: 3.1527 - val_loss: 15.4411 - val_mae: 3.1508\n",
            "Epoch 7/10\n",
            "137/137 [==============================] - 50s 352ms/step - loss: 15.3060 - mae: 3.1047 - val_loss: 15.2413 - val_mae: 3.1164\n",
            "Epoch 8/10\n",
            "137/137 [==============================] - 46s 325ms/step - loss: 14.9920 - mae: 3.0732 - val_loss: 16.8941 - val_mae: 3.2932\n",
            "Epoch 9/10\n",
            "137/137 [==============================] - 44s 312ms/step - loss: 14.6674 - mae: 3.0387 - val_loss: 15.9677 - val_mae: 3.1283\n",
            "Epoch 10/10\n",
            "137/137 [==============================] - 45s 308ms/step - loss: 14.4301 - mae: 3.0136 - val_loss: 14.8280 - val_mae: 3.0598\n",
            "68/68 [==============================] - 17s 220ms/step - loss: 15.9023 - mae: 3.1707\n",
            "Test MAE: 3.17\n"
          ]
        }
      ],
      "source": [
        "inputs = keras.Input(shape=(sequence_length, raw_data.shape[-1]))\n",
        "x = layers.Conv1D(8, 24, activation=\"relu\")(inputs)\n",
        "x = layers.MaxPooling1D(2)(x)\n",
        "x = layers.Conv1D(8, 12, activation=\"relu\")(x)\n",
        "x = layers.MaxPooling1D(2)(x)\n",
        "x = layers.Conv1D(8, 6, activation=\"relu\")(x)\n",
        "x = layers.GlobalAveragePooling1D()(x)\n",
        "outputs = layers.Dense(1)(x)\n",
        "model = keras.Model(inputs, outputs)\n",
        "\n",
        "callbacks = [\n",
        "    keras.callbacks.ModelCheckpoint(\"jena_conv.keras\",\n",
        "                                    save_best_only=True)\n",
        "]\n",
        "model.compile(optimizer=\"rmsprop\", loss=\"mse\", metrics=[\"mae\"])\n",
        "history = model.fit(train_dataset,\n",
        "                    epochs=10,\n",
        "                    validation_data=val_dataset,\n",
        "                    callbacks=callbacks)\n",
        "\n",
        "model = keras.models.load_model(\"jena_conv.keras\")\n",
        "print(f\"Test MAE: {model.evaluate(test_dataset)[1]:.2f}\")"
      ]
    },
    {
      "cell_type": "code",
      "source": [
        "import matplotlib.pyplot as plt\n",
        "loss = history.history[\"mae\"]\n",
        "val_loss = history.history[\"val_mae\"]\n",
        "\n",
        "epochs = range(1, len(loss) + 1)\n",
        "plt.figure()\n",
        "plt.plot(epochs, loss, color=\"grey\", linestyle=\"dashed\", label=\"Training MAE\")\n",
        "plt.plot(epochs,  val_loss, color=\"blue\",linestyle=\"dashed\", label=\"Validation MAE\")\n",
        "plt.title(\"Training and validation MAE\")\n",
        "plt.xlabel(\"Epochs\")\n",
        "plt.ylabel(\"MAE\")\n",
        "plt.legend()\n",
        "plt.show()"
      ],
      "metadata": {
        "id": "HgxxP4KsD9CO",
        "outputId": "97efc750-9bf4-40a9-bddb-b84edaedb639",
        "colab": {
          "base_uri": "https://localhost:8080/",
          "height": 472
        }
      },
      "execution_count": 21,
      "outputs": [
        {
          "output_type": "display_data",
          "data": {
            "text/plain": [
              "<Figure size 640x480 with 1 Axes>"
            ],
            "image/png": "[encoded data removed]"
          },
          "metadata": {}
        }
      ]
    },
    {
      "cell_type": "markdown",
      "metadata": {
        "id": "6VQ_NCj4adhz"
      },
      "source": [
        "## **A Simple RNN**"
      ]
    },
    {
      "cell_type": "markdown",
      "metadata": {
        "id": "1zMdW52_adhz"
      },
      "source": [
        "#1.An RNN layer that can process sequences of any length"
      ]
    },
    {
      "cell_type": "code",
      "execution_count": 22,
      "metadata": {
        "id": "J1gz21Gzadhz",
        "colab": {
          "base_uri": "https://localhost:8080/"
        },
        "outputId": "d08abaf0-72d3-48ad-c03a-80a8073b2354"
      },
      "outputs": [
        {
          "output_type": "stream",
          "name": "stdout",
          "text": [
            "Epoch 1/10\n",
            "137/137 [==============================] - 63s 427ms/step - loss: 145.1688 - mae: 10.0475 - val_loss: 147.1132 - val_mae: 10.1109\n",
            "Epoch 2/10\n",
            "137/137 [==============================] - 65s 468ms/step - loss: 138.5386 - mae: 9.7279 - val_loss: 145.1067 - val_mae: 9.9817\n",
            "Epoch 3/10\n",
            "137/137 [==============================] - 65s 462ms/step - loss: 137.6190 - mae: 9.6661 - val_loss: 144.8053 - val_mae: 9.9669\n",
            "Epoch 4/10\n",
            "137/137 [==============================] - 57s 406ms/step - loss: 137.2931 - mae: 9.6418 - val_loss: 144.7325 - val_mae: 9.9600\n",
            "Epoch 5/10\n",
            "137/137 [==============================] - 68s 481ms/step - loss: 137.2047 - mae: 9.6346 - val_loss: 144.6133 - val_mae: 9.9543\n",
            "Epoch 6/10\n",
            "137/137 [==============================] - 66s 469ms/step - loss: 137.0354 - mae: 9.6201 - val_loss: 144.3142 - val_mae: 9.9326\n",
            "Epoch 7/10\n",
            "137/137 [==============================] - 60s 428ms/step - loss: 136.8507 - mae: 9.6038 - val_loss: 144.1505 - val_mae: 9.9192\n",
            "Epoch 8/10\n",
            "137/137 [==============================] - 59s 420ms/step - loss: 136.6177 - mae: 9.5842 - val_loss: 143.9398 - val_mae: 9.8994\n",
            "Epoch 9/10\n",
            "137/137 [==============================] - 65s 457ms/step - loss: 136.4452 - mae: 9.5681 - val_loss: 143.7839 - val_mae: 9.8811\n",
            "Epoch 10/10\n",
            "137/137 [==============================] - 65s 455ms/step - loss: 136.3108 - mae: 9.5552 - val_loss: 143.7357 - val_mae: 9.8752\n",
            "68/68 [==============================] - 16s 200ms/step - loss: 151.6064 - mae: 9.9521\n",
            "Test MAE: 9.95\n"
          ]
        }
      ],
      "source": [
        "num_features = 14\n",
        "inputs = keras.Input(shape=(None, num_features))\n",
        "outputs = layers.SimpleRNN(16)(inputs)\n",
        "\n",
        "model = keras.Model(inputs, outputs)\n",
        "\n",
        "callbacks = [\n",
        "    keras.callbacks.ModelCheckpoint(\"jena_SimRNN.keras\",\n",
        "                                    save_best_only=True)\n",
        "]\n",
        "model.compile(optimizer=\"rmsprop\", loss=\"mse\", metrics=[\"mae\"])\n",
        "history = model.fit(train_dataset,\n",
        "                    epochs=10,\n",
        "                    validation_data=val_dataset,\n",
        "                    callbacks=callbacks)\n",
        "\n",
        "model = keras.models.load_model(\"jena_SimRNN.keras\")\n",
        "print(f\"Test MAE: {model.evaluate(test_dataset)[1]:.2f}\")"
      ]
    },
    {
      "cell_type": "markdown",
      "metadata": {
        "id": "73Q_2Y8Badh0"
      },
      "source": [
        "### **2.Simple RNN - Stacking RNN layers**"
      ]
    },
    {
      "cell_type": "code",
      "execution_count": 23,
      "metadata": {
        "id": "51BF1pdLadh0",
        "colab": {
          "base_uri": "https://localhost:8080/"
        },
        "outputId": "67a315b8-2e21-485c-c29a-c0d9d82a3372"
      },
      "outputs": [
        {
          "output_type": "stream",
          "name": "stdout",
          "text": [
            "Epoch 1/10\n",
            "137/137 [==============================] - 104s 727ms/step - loss: 140.9565 - mae: 9.7790 - val_loss: 143.7180 - val_mae: 9.8562\n",
            "Epoch 2/10\n",
            "137/137 [==============================] - 104s 746ms/step - loss: 136.1372 - mae: 9.5356 - val_loss: 143.4819 - val_mae: 9.8431\n",
            "Epoch 3/10\n",
            "137/137 [==============================] - 104s 738ms/step - loss: 136.0178 - mae: 9.5222 - val_loss: 143.4668 - val_mae: 9.8418\n",
            "Epoch 4/10\n",
            "137/137 [==============================] - 102s 729ms/step - loss: 135.9606 - mae: 9.5145 - val_loss: 143.4832 - val_mae: 9.8438\n",
            "Epoch 5/10\n",
            "137/137 [==============================] - 100s 719ms/step - loss: 135.9199 - mae: 9.5093 - val_loss: 143.4411 - val_mae: 9.8401\n",
            "Epoch 6/10\n",
            "137/137 [==============================] - 103s 744ms/step - loss: 135.8920 - mae: 9.5044 - val_loss: 143.4311 - val_mae: 9.8391\n",
            "Epoch 7/10\n",
            "137/137 [==============================] - 101s 726ms/step - loss: 135.8853 - mae: 9.5028 - val_loss: 143.4281 - val_mae: 9.8388\n",
            "Epoch 8/10\n",
            "137/137 [==============================] - 104s 753ms/step - loss: 135.8785 - mae: 9.5020 - val_loss: 143.4555 - val_mae: 9.8440\n",
            "Epoch 9/10\n",
            "137/137 [==============================] - 100s 723ms/step - loss: 135.8582 - mae: 9.4991 - val_loss: 143.5903 - val_mae: 9.8591\n",
            "Epoch 10/10\n",
            "137/137 [==============================] - 103s 744ms/step - loss: 135.8483 - mae: 9.4975 - val_loss: 143.4394 - val_mae: 9.8411\n",
            "68/68 [==============================] - 18s 234ms/step - loss: 151.1520 - mae: 9.9065\n",
            "Test MAE: 9.91\n"
          ]
        }
      ],
      "source": [
        "num_features = 14\n",
        "steps = 120\n",
        "inputs = keras.Input(shape=(steps, num_features))\n",
        "x = layers.SimpleRNN(16, return_sequences=True)(inputs)\n",
        "x = layers.SimpleRNN(16, return_sequences=True)(x)\n",
        "outputs = layers.SimpleRNN(16)(x)\n",
        "model = keras.Model(inputs, outputs)\n",
        "\n",
        "callbacks = [\n",
        "    keras.callbacks.ModelCheckpoint(\"jena_SRNN2.keras\",\n",
        "                                    save_best_only=True)\n",
        "]\n",
        "model.compile(optimizer=\"rmsprop\", loss=\"mse\", metrics=[\"mae\"])\n",
        "history = model.fit(train_dataset,\n",
        "                    epochs=10,\n",
        "                    validation_data=val_dataset,\n",
        "                    callbacks=callbacks)\n",
        "\n",
        "model = keras.models.load_model(\"jena_SRNN2.keras\")\n",
        "print(f\"Test MAE: {model.evaluate(test_dataset)[1]:.2f}\")\n"
      ]
    },
    {
      "cell_type": "markdown",
      "source": [
        "### **1.LSTM-Simple**"
      ],
      "metadata": {
        "id": "4mNEWF5HgY4G"
      }
    },
    {
      "cell_type": "code",
      "source": [
        "inputs = keras.Input(shape=(sequence_length, raw_data.shape[-1]))\n",
        "x = layers.LSTM(16)(inputs)\n",
        "outputs = layers.Dense(1)(x)\n",
        "model = keras.Model(inputs, outputs)\n",
        "\n",
        "callbacks = [\n",
        "    keras.callbacks.ModelCheckpoint(\"jena_lstm.keras\",\n",
        "                                    save_best_only=True)\n",
        "]\n",
        "model.compile(optimizer=\"rmsprop\", loss=\"mse\", metrics=[\"mae\"])\n",
        "history = model.fit(train_dataset,\n",
        "                    epochs=10,\n",
        "                    validation_data=val_dataset,\n",
        "                    callbacks=callbacks)\n",
        "\n",
        "model = keras.models.load_model(\"jena_lstm.keras\")\n",
        "print(f\"Test MAE: {model.evaluate(test_dataset)[1]:.2f}\")"
      ],
      "metadata": {
        "colab": {
          "base_uri": "https://localhost:8080/"
        },
        "id": "i1J7TF50gh-2",
        "outputId": "63019b0a-3230-4b8d-8c95-4c10aa49db15"
      },
      "execution_count": null,
      "outputs": [
        {
          "output_type": "stream",
          "name": "stdout",
          "text": [
            "Epoch 1/10\n",
            "819/819 [==============================] - 47s 55ms/step - loss: 40.9992 - mae: 4.6805 - val_loss: 12.8009 - val_mae: 2.7204\n",
            "Epoch 2/10\n",
            "819/819 [==============================] - 44s 54ms/step - loss: 11.1815 - mae: 2.6019 - val_loss: 10.1020 - val_mae: 2.4575\n",
            "Epoch 3/10\n",
            "819/819 [==============================] - 45s 55ms/step - loss: 9.9287 - mae: 2.4581 - val_loss: 9.6784 - val_mae: 2.4080\n",
            "Epoch 4/10\n",
            "819/819 [==============================] - 44s 54ms/step - loss: 9.5564 - mae: 2.4059 - val_loss: 9.4899 - val_mae: 2.3894\n",
            "Epoch 5/10\n",
            "819/819 [==============================] - 44s 53ms/step - loss: 9.2829 - mae: 2.3676 - val_loss: 9.3406 - val_mae: 2.3704\n",
            "Epoch 6/10\n",
            "819/819 [==============================] - 44s 54ms/step - loss: 9.0682 - mae: 2.3378 - val_loss: 9.6171 - val_mae: 2.4087\n",
            "Epoch 7/10\n",
            "819/819 [==============================] - 44s 54ms/step - loss: 8.8744 - mae: 2.3108 - val_loss: 9.6770 - val_mae: 2.4093\n",
            "Epoch 8/10\n",
            "819/819 [==============================] - 44s 54ms/step - loss: 8.6622 - mae: 2.2795 - val_loss: 9.7010 - val_mae: 2.4140\n",
            "Epoch 9/10\n",
            "819/819 [==============================] - 44s 53ms/step - loss: 8.4811 - mae: 2.2555 - val_loss: 9.5962 - val_mae: 2.3926\n",
            "Epoch 10/10\n",
            "819/819 [==============================] - 44s 54ms/step - loss: 8.3439 - mae: 2.2397 - val_loss: 9.6498 - val_mae: 2.3973\n",
            "405/405 [==============================] - 9s 21ms/step - loss: 11.1690 - mae: 2.5945\n",
            "Test MAE: 2.59\n"
          ]
        }
      ]
    },
    {
      "cell_type": "markdown",
      "source": [
        "### **2.LSTM - dropout Regularization**"
      ],
      "metadata": {
        "id": "B88qTxu6i6ey"
      }
    },
    {
      "cell_type": "code",
      "execution_count": 24,
      "metadata": {
        "id": "CEfrwdL1adh1",
        "colab": {
          "base_uri": "https://localhost:8080/"
        },
        "outputId": "d4081a37-7d52-4011-ca68-ef2ea39813bf"
      },
      "outputs": [
        {
          "output_type": "stream",
          "name": "stderr",
          "text": [
            "WARNING:tensorflow:Layer lstm will not use cuDNN kernels since it doesn't meet the criteria. It will use a generic GPU kernel as fallback when running on GPU.\n"
          ]
        },
        {
          "output_type": "stream",
          "name": "stdout",
          "text": [
            "Epoch 1/10\n",
            "137/137 [==============================] - 119s 839ms/step - loss: 109.1012 - mae: 8.5135 - val_loss: 74.1966 - val_mae: 6.7642\n",
            "Epoch 2/10\n",
            "137/137 [==============================] - 123s 883ms/step - loss: 62.5028 - mae: 6.0730 - val_loss: 48.7745 - val_mae: 5.2892\n",
            "Epoch 3/10\n",
            "137/137 [==============================] - 126s 901ms/step - loss: 45.2744 - mae: 5.0629 - val_loss: 33.2384 - val_mae: 4.2770\n",
            "Epoch 4/10\n",
            "137/137 [==============================] - 124s 892ms/step - loss: 34.2936 - mae: 4.3801 - val_loss: 23.0243 - val_mae: 3.5316\n",
            "Epoch 5/10\n",
            "137/137 [==============================] - 125s 902ms/step - loss: 27.2728 - mae: 3.9258 - val_loss: 16.7461 - val_mae: 3.0368\n",
            "Epoch 6/10\n",
            "137/137 [==============================] - 124s 886ms/step - loss: 23.2264 - mae: 3.6522 - val_loss: 13.2046 - val_mae: 2.7370\n",
            "Epoch 7/10\n",
            "137/137 [==============================] - 124s 892ms/step - loss: 20.8708 - mae: 3.4953 - val_loss: 11.5519 - val_mae: 2.5979\n",
            "Epoch 8/10\n",
            "137/137 [==============================] - 121s 870ms/step - loss: 19.8156 - mae: 3.4117 - val_loss: 10.4012 - val_mae: 2.4818\n",
            "Epoch 9/10\n",
            "137/137 [==============================] - 118s 854ms/step - loss: 19.1304 - mae: 3.3603 - val_loss: 10.1976 - val_mae: 2.4679\n",
            "Epoch 10/10\n",
            "137/137 [==============================] - 122s 885ms/step - loss: 18.6543 - mae: 3.3201 - val_loss: 9.8333 - val_mae: 2.4303\n"
          ]
        },
        {
          "output_type": "stream",
          "name": "stderr",
          "text": [
            "WARNING:tensorflow:Layer lstm will not use cuDNN kernels since it doesn't meet the criteria. It will use a generic GPU kernel as fallback when running on GPU.\n"
          ]
        },
        {
          "output_type": "stream",
          "name": "stdout",
          "text": [
            "68/68 [==============================] - 19s 247ms/step - loss: 11.8239 - mae: 2.6851\n",
            "Test MAE: 2.69\n"
          ]
        }
      ],
      "source": [
        "inputs = keras.Input(shape=(sequence_length, raw_data.shape[-1]))\n",
        "x = layers.LSTM(16, recurrent_dropout=0.25)(inputs)\n",
        "x = layers.Dropout(0.5)(x)\n",
        "outputs = layers.Dense(1)(x)\n",
        "model = keras.Model(inputs, outputs)\n",
        "\n",
        "callbacks = [\n",
        "    keras.callbacks.ModelCheckpoint(\"jena_lstm_dropout.keras\",\n",
        "                                    save_best_only=True)\n",
        "]\n",
        "model.compile(optimizer=\"rmsprop\", loss=\"mse\", metrics=[\"mae\"])\n",
        "history = model.fit(train_dataset,\n",
        "                    epochs=10,\n",
        "                    validation_data=val_dataset,\n",
        "                    callbacks=callbacks)\n",
        "\n",
        "model = keras.models.load_model(\"jena_lstm_dropout.keras\")\n",
        "print(f\"Test MAE: {model.evaluate(test_dataset)[1]:.2f}\")"
      ]
    },
    {
      "cell_type": "markdown",
      "metadata": {
        "id": "dMDK_sjwadh1"
      },
      "source": [
        "### **3.LSTM - Stacked setup with 16 units**"
      ]
    },
    {
      "cell_type": "code",
      "execution_count": null,
      "metadata": {
        "id": "uoDbCNsEadh2",
        "colab": {
          "base_uri": "https://localhost:8080/"
        },
        "outputId": "148b4c1b-3e3a-453e-8e96-bf918c129aa2"
      },
      "outputs": [
        {
          "output_type": "stream",
          "name": "stdout",
          "text": [
            "Epoch 1/10\n",
            "819/819 [==============================] - 92s 108ms/step - loss: 42.0220 - mae: 4.7276 - val_loss: 12.9326 - val_mae: 2.7155\n",
            "Epoch 2/10\n",
            "819/819 [==============================] - 88s 108ms/step - loss: 10.4137 - mae: 2.5023 - val_loss: 9.2121 - val_mae: 2.3573\n",
            "Epoch 3/10\n",
            "819/819 [==============================] - 90s 110ms/step - loss: 8.8353 - mae: 2.3177 - val_loss: 9.8595 - val_mae: 2.4323\n",
            "Epoch 4/10\n",
            "819/819 [==============================] - 89s 109ms/step - loss: 8.2430 - mae: 2.2422 - val_loss: 9.6070 - val_mae: 2.4117\n",
            "Epoch 5/10\n",
            "819/819 [==============================] - 89s 108ms/step - loss: 7.7582 - mae: 2.1819 - val_loss: 9.4796 - val_mae: 2.3987\n",
            "Epoch 6/10\n",
            "819/819 [==============================] - 88s 107ms/step - loss: 7.2837 - mae: 2.1171 - val_loss: 9.5176 - val_mae: 2.4032\n",
            "Epoch 7/10\n",
            "819/819 [==============================] - 89s 108ms/step - loss: 6.8752 - mae: 2.0551 - val_loss: 11.5418 - val_mae: 2.6705\n",
            "Epoch 8/10\n",
            "819/819 [==============================] - 86s 105ms/step - loss: 6.5623 - mae: 2.0061 - val_loss: 10.9746 - val_mae: 2.5813\n",
            "Epoch 9/10\n",
            "819/819 [==============================] - 86s 105ms/step - loss: 6.2988 - mae: 1.9612 - val_loss: 10.8356 - val_mae: 2.5748\n",
            "Epoch 10/10\n",
            "819/819 [==============================] - 86s 105ms/step - loss: 6.0548 - mae: 1.9222 - val_loss: 11.0356 - val_mae: 2.6066\n",
            "405/405 [==============================] - 16s 38ms/step - loss: 10.8902 - mae: 2.5782\n",
            "Test MAE: 2.58\n"
          ]
        }
      ],
      "source": [
        "inputs = keras.Input(shape=(sequence_length, raw_data.shape[-1]))\n",
        "x = layers.LSTM(16, return_sequences=True)(inputs)\n",
        "x = layers.LSTM(16)(x)\n",
        "outputs = layers.Dense(1)(x)\n",
        "model = keras.Model(inputs, outputs)\n",
        "\n",
        "callbacks = [\n",
        "    keras.callbacks.ModelCheckpoint(\"jena_LSTM_stacked1.keras\",\n",
        "                                    save_best_only=True)\n",
        "]\n",
        "model.compile(optimizer=\"rmsprop\", loss=\"mse\", metrics=[\"mae\"])\n",
        "history = model.fit(train_dataset,\n",
        "                    epochs=10,\n",
        "                    validation_data=val_dataset,\n",
        "                    callbacks=callbacks)\n",
        "model = keras.models.load_model(\"jena_LSTM_stacked1.keras\")\n",
        "print(f\"Test MAE: {model.evaluate(test_dataset)[1]:.2f}\")"
      ]
    },
    {
      "cell_type": "markdown",
      "source": [
        "### **4.LSTM - Stacked setup with 32 units**"
      ],
      "metadata": {
        "id": "eiS1uQ2tnSQ6"
      }
    },
    {
      "cell_type": "code",
      "source": [
        "inputs = keras.Input(shape=(sequence_length, raw_data.shape[-1]))\n",
        "x = layers.LSTM(32, return_sequences=True)(inputs)\n",
        "x = layers.LSTM(32)(x)\n",
        "outputs = layers.Dense(1)(x)\n",
        "model = keras.Model(inputs, outputs)\n",
        "\n",
        "callbacks = [\n",
        "    keras.callbacks.ModelCheckpoint(\"jena_LSTM_stacked2.keras\",\n",
        "                                    save_best_only=True)\n",
        "]\n",
        "model.compile(optimizer=\"rmsprop\", loss=\"mse\", metrics=[\"mae\"])\n",
        "history = model.fit(train_dataset,\n",
        "                    epochs=10,\n",
        "                    validation_data=val_dataset,\n",
        "                    callbacks=callbacks)\n",
        "model = keras.models.load_model(\"jena_LSTM_stacked2.keras\")\n",
        "print(f\"Test MAE: {model.evaluate(test_dataset)[1]:.2f}\")"
      ],
      "metadata": {
        "id": "hV7BSwuBnvUe",
        "outputId": "ec1bc8ca-6b5d-4cba-ac2e-6a46dedb5421",
        "colab": {
          "base_uri": "https://localhost:8080/"
        }
      },
      "execution_count": null,
      "outputs": [
        {
          "output_type": "stream",
          "name": "stdout",
          "text": [
            "Epoch 1/10\n",
            "819/819 [==============================] - 137s 163ms/step - loss: 20.0605 - mae: 3.2202 - val_loss: 9.7444 - val_mae: 2.4315\n",
            "Epoch 2/10\n",
            "819/819 [==============================] - 134s 164ms/step - loss: 7.8106 - mae: 2.1822 - val_loss: 10.6354 - val_mae: 2.5525\n",
            "Epoch 3/10\n",
            "819/819 [==============================] - 129s 158ms/step - loss: 6.1545 - mae: 1.9350 - val_loss: 11.5161 - val_mae: 2.6639\n",
            "Epoch 4/10\n",
            "819/819 [==============================] - 129s 158ms/step - loss: 5.0637 - mae: 1.7453 - val_loss: 12.1223 - val_mae: 2.7221\n",
            "Epoch 5/10\n",
            "819/819 [==============================] - 130s 159ms/step - loss: 4.3425 - mae: 1.6110 - val_loss: 13.0372 - val_mae: 2.8205\n",
            "Epoch 6/10\n",
            "819/819 [==============================] - 130s 158ms/step - loss: 3.8168 - mae: 1.5072 - val_loss: 14.2476 - val_mae: 2.9575\n",
            "Epoch 7/10\n",
            "819/819 [==============================] - 132s 161ms/step - loss: 3.3606 - mae: 1.4129 - val_loss: 14.6092 - val_mae: 3.0047\n",
            "Epoch 8/10\n",
            "819/819 [==============================] - 131s 160ms/step - loss: 2.9925 - mae: 1.3316 - val_loss: 13.7077 - val_mae: 2.9086\n",
            "Epoch 9/10\n",
            "819/819 [==============================] - 131s 160ms/step - loss: 2.7488 - mae: 1.2750 - val_loss: 14.4760 - val_mae: 2.9931\n",
            "Epoch 10/10\n",
            "819/819 [==============================] - 130s 159ms/step - loss: 2.5174 - mae: 1.2201 - val_loss: 14.4812 - val_mae: 3.0129\n",
            "405/405 [==============================] - 25s 59ms/step - loss: 11.6175 - mae: 2.6779\n",
            "Test MAE: 2.68\n"
          ]
        }
      ]
    },
    {
      "cell_type": "markdown",
      "source": [
        "### **4.LSTM - Stacked setup with 8 units**"
      ],
      "metadata": {
        "id": "dPDgszVxnbqa"
      }
    },
    {
      "cell_type": "code",
      "source": [
        "inputs = keras.Input(shape=(sequence_length, raw_data.shape[-1]))\n",
        "x = layers.LSTM(8, return_sequences=True)(inputs)\n",
        "x = layers.LSTM(8)(x)\n",
        "outputs = layers.Dense(1)(x)\n",
        "model = keras.Model(inputs, outputs)\n",
        "\n",
        "callbacks = [\n",
        "    keras.callbacks.ModelCheckpoint(\"jena_LSTM_stacked3.keras\",\n",
        "                                    save_best_only=True)\n",
        "]\n",
        "model.compile(optimizer=\"rmsprop\", loss=\"mse\", metrics=[\"mae\"])\n",
        "history = model.fit(train_dataset,\n",
        "                    epochs=10,\n",
        "                    validation_data=val_dataset,\n",
        "                    callbacks=callbacks)\n",
        "model = keras.models.load_model(\"jena_LSTM_stacked3.keras\")\n",
        "print(f\"Test MAE: {model.evaluate(test_dataset)[1]:.2f}\")"
      ],
      "metadata": {
        "colab": {
          "base_uri": "https://localhost:8080/"
        },
        "id": "AvsPOxbNoYPx",
        "outputId": "bd55a4a6-4a6e-4cdf-94a2-8a5dc7808e86"
      },
      "execution_count": null,
      "outputs": [
        {
          "output_type": "stream",
          "name": "stdout",
          "text": [
            "Epoch 1/10\n",
            "819/819 [==============================] - 84s 96ms/step - loss: 64.1802 - mae: 6.0847 - val_loss: 31.4408 - val_mae: 4.1349\n",
            "Epoch 2/10\n",
            "819/819 [==============================] - 77s 94ms/step - loss: 19.2954 - mae: 3.2511 - val_loss: 12.3955 - val_mae: 2.6608\n",
            "Epoch 3/10\n",
            "819/819 [==============================] - 77s 94ms/step - loss: 10.7764 - mae: 2.5324 - val_loss: 10.1745 - val_mae: 2.4398\n",
            "Epoch 4/10\n",
            "819/819 [==============================] - 74s 90ms/step - loss: 9.6899 - mae: 2.4150 - val_loss: 10.0503 - val_mae: 2.4546\n",
            "Epoch 5/10\n",
            "819/819 [==============================] - 73s 89ms/step - loss: 9.3284 - mae: 2.3743 - val_loss: 9.3463 - val_mae: 2.3636\n",
            "Epoch 6/10\n",
            "819/819 [==============================] - 73s 89ms/step - loss: 9.0719 - mae: 2.3443 - val_loss: 11.0032 - val_mae: 2.5082\n",
            "Epoch 7/10\n",
            "819/819 [==============================] - 73s 89ms/step - loss: 8.8230 - mae: 2.3160 - val_loss: 9.3469 - val_mae: 2.3690\n",
            "Epoch 8/10\n",
            "819/819 [==============================] - 73s 89ms/step - loss: 8.6719 - mae: 2.2986 - val_loss: 9.8899 - val_mae: 2.4284\n",
            "Epoch 9/10\n",
            "819/819 [==============================] - 73s 89ms/step - loss: 8.4817 - mae: 2.2763 - val_loss: 9.8557 - val_mae: 2.4322\n",
            "Epoch 10/10\n",
            "819/819 [==============================] - 73s 89ms/step - loss: 8.3881 - mae: 2.2631 - val_loss: 9.7143 - val_mae: 2.4149\n",
            "405/405 [==============================] - 13s 30ms/step - loss: 10.5917 - mae: 2.5546\n",
            "Test MAE: 2.55\n"
          ]
        }
      ]
    },
    {
      "cell_type": "markdown",
      "source": [
        "### **5.LSTM - dropout-regularized, stacked model**"
      ],
      "metadata": {
        "id": "vVgHAyNuoLpn"
      }
    },
    {
      "cell_type": "code",
      "source": [
        "inputs = keras.Input(shape=(sequence_length, raw_data.shape[-1]))\n",
        "x = layers.LSTM(8, recurrent_dropout=0.5, return_sequences=True)(inputs)\n",
        "x = layers.LSTM(8, recurrent_dropout=0.5)(x)\n",
        "x = layers.Dropout(0.5)(x)\n",
        "outputs = layers.Dense(1)(x)\n",
        "model = keras.Model(inputs, outputs)\n",
        "\n",
        "callbacks = [\n",
        "    keras.callbacks.ModelCheckpoint(\"jena_stacked_LSTM_dropout.keras\",\n",
        "                                    save_best_only=True)\n",
        "]\n",
        "model.compile(optimizer=\"rmsprop\", loss=\"mse\", metrics=[\"mae\"])\n",
        "history = model.fit(train_dataset,\n",
        "                    epochs=10,\n",
        "                    validation_data=val_dataset,\n",
        "                    callbacks=callbacks)\n",
        "model = keras.models.load_model(\"jena_stacked_LSTM_dropout.keras\")\n",
        "print(f\"Test MAE: {model.evaluate(test_dataset)[1]:.2f}\")"
      ],
      "metadata": {
        "colab": {
          "base_uri": "https://localhost:8080/"
        },
        "id": "ocuwCavymPpq",
        "outputId": "166a3a1f-2415-4c0f-d0cf-1d121c6cff21"
      },
      "execution_count": null,
      "outputs": [
        {
          "output_type": "stream",
          "name": "stdout",
          "text": [
            "Epoch 1/10\n",
            "819/819 [==============================] - 110s 129ms/step - loss: 76.4923 - mae: 6.7366 - val_loss: 37.6573 - val_mae: 4.5464\n",
            "Epoch 2/10\n",
            "819/819 [==============================] - 105s 128ms/step - loss: 32.7365 - mae: 4.2628 - val_loss: 14.4797 - val_mae: 2.8360\n",
            "Epoch 3/10\n",
            "819/819 [==============================] - 104s 127ms/step - loss: 24.6575 - mae: 3.7489 - val_loss: 10.8112 - val_mae: 2.5176\n",
            "Epoch 4/10\n",
            "819/819 [==============================] - 106s 129ms/step - loss: 22.4720 - mae: 3.5893 - val_loss: 10.2903 - val_mae: 2.4759\n",
            "Epoch 5/10\n",
            "819/819 [==============================] - 106s 129ms/step - loss: 21.0787 - mae: 3.4736 - val_loss: 9.7520 - val_mae: 2.4119\n",
            "Epoch 6/10\n",
            "819/819 [==============================] - 106s 130ms/step - loss: 19.9963 - mae: 3.3899 - val_loss: 9.9300 - val_mae: 2.4371\n",
            "Epoch 7/10\n",
            "819/819 [==============================] - 106s 130ms/step - loss: 19.2050 - mae: 3.3243 - val_loss: 9.5187 - val_mae: 2.3836\n",
            "Epoch 8/10\n",
            "819/819 [==============================] - 105s 129ms/step - loss: 18.5436 - mae: 3.2655 - val_loss: 9.8865 - val_mae: 2.4289\n",
            "Epoch 9/10\n",
            "819/819 [==============================] - 106s 129ms/step - loss: 17.9033 - mae: 3.2128 - val_loss: 9.1635 - val_mae: 2.3419\n",
            "Epoch 10/10\n",
            "819/819 [==============================] - 105s 128ms/step - loss: 17.5612 - mae: 3.1841 - val_loss: 9.4240 - val_mae: 2.3760\n",
            "405/405 [==============================] - 11s 25ms/step - loss: 10.7521 - mae: 2.5617\n",
            "Test MAE: 2.56\n"
          ]
        }
      ]
    },
    {
      "cell_type": "code",
      "source": [
        "import matplotlib.pyplot as plt\n",
        "loss = history.history[\"mae\"]\n",
        "val_loss = history.history[\"val_mae\"]\n",
        "\n",
        "epochs = range(1, len(loss) + 1)\n",
        "plt.figure()\n",
        "plt.plot(epochs, loss, color=\"grey\", linestyle=\"dashed\", label=\"Training MAE\")\n",
        "plt.plot(epochs,  val_loss, color=\"blue\",linestyle=\"dashed\", label=\"Validation MAE\")\n",
        "plt.title(\"Training and validation MAE\")\n",
        "plt.xlabel(\"Epochs\")\n",
        "plt.ylabel(\"MAE\")\n",
        "plt.legend()\n",
        "plt.show()"
      ],
      "metadata": {
        "id": "nWmG93mDonMe",
        "outputId": "785ee41e-7a3b-494d-da04-0642c295ec26",
        "colab": {
          "base_uri": "https://localhost:8080/",
          "height": 472
        }
      },
      "execution_count": null,
      "outputs": [
        {
          "output_type": "display_data",
          "data": {
            "text/plain": [
              "<Figure size 640x480 with 1 Axes>"
            ],
            "image/png": "[encoded data removed]"
          },
          "metadata": {}
        }
      ]
    },
    {
      "cell_type": "markdown",
      "source": [
        "### **1D Convnets and LSTM togther**"
      ],
      "metadata": {
        "id": "arIyeTpWrFBM"
      }
    },
    {
      "cell_type": "code",
      "source": [
        "\n",
        "inputs = keras.Input(shape=(sequence_length, raw_data.shape[-1]))\n",
        "x = layers.Conv1D(64, 3, activation='relu')(inputs)\n",
        "x = layers.MaxPooling1D(3)(x)\n",
        "x = layers.Conv1D(128, 3, activation='relu')(x)\n",
        "x = layers.GlobalMaxPooling1D()(x)\n",
        "x = layers.Reshape((-1, 128))(x)  # Reshape the data to be 3D\n",
        "x = layers.LSTM(16)(x)\n",
        "outputs = layers.Dense(1)(x)\n",
        "model = keras.Model(inputs, outputs)\n",
        "\n",
        "model.compile(optimizer=\"rmsprop\", loss=\"mse\", metrics=[\"mae\"])\n",
        "\n",
        "callbacks = [\n",
        "    keras.callbacks.ModelCheckpoint(\"jena_Conv_LSTM.keras\", save_best_only=True)\n",
        "]\n",
        "\n",
        "history = model.fit(train_dataset, epochs=10, validation_data=val_dataset, callbacks=callbacks)\n",
        "\n",
        "model = keras.models.load_model(\"jena_Conv_LSTM.keras\")\n",
        "print(f\"Test MAE: {model.evaluate(test_dataset)[1]:.2f}\")"
      ],
      "metadata": {
        "id": "4JdcgYJGsGkj",
        "outputId": "55515f2f-719c-478a-bca1-5d4214c79d87",
        "colab": {
          "base_uri": "https://localhost:8080/"
        }
      },
      "execution_count": null,
      "outputs": [
        {
          "output_type": "stream",
          "name": "stdout",
          "text": [
            "Epoch 1/10\n",
            "819/819 [==============================] - 19s 20ms/step - loss: 49.2474 - mae: 5.2556 - val_loss: 25.2778 - val_mae: 3.8680\n",
            "Epoch 2/10\n",
            "819/819 [==============================] - 16s 19ms/step - loss: 17.9254 - mae: 3.2846 - val_loss: 23.3230 - val_mae: 3.7986\n",
            "Epoch 3/10\n",
            "819/819 [==============================] - 16s 19ms/step - loss: 14.8910 - mae: 3.0042 - val_loss: 23.9210 - val_mae: 3.8602\n",
            "Epoch 4/10\n",
            "819/819 [==============================] - 15s 19ms/step - loss: 13.2011 - mae: 2.8236 - val_loss: 22.4376 - val_mae: 3.7737\n",
            "Epoch 5/10\n",
            "819/819 [==============================] - 16s 19ms/step - loss: 12.0171 - mae: 2.6891 - val_loss: 28.6422 - val_mae: 4.2287\n",
            "Epoch 6/10\n",
            "819/819 [==============================] - 16s 19ms/step - loss: 11.1359 - mae: 2.5809 - val_loss: 24.8776 - val_mae: 4.0289\n",
            "Epoch 7/10\n",
            "819/819 [==============================] - 16s 19ms/step - loss: 10.4522 - mae: 2.4934 - val_loss: 22.6913 - val_mae: 3.8233\n",
            "Epoch 8/10\n",
            "819/819 [==============================] - 16s 19ms/step - loss: 9.7931 - mae: 2.4064 - val_loss: 24.4425 - val_mae: 3.9093\n",
            "Epoch 9/10\n",
            "819/819 [==============================] - 16s 19ms/step - loss: 9.2956 - mae: 2.3427 - val_loss: 22.2685 - val_mae: 3.7657\n",
            "Epoch 10/10\n",
            "819/819 [==============================] - 16s 19ms/step - loss: 8.8660 - mae: 2.2824 - val_loss: 23.4386 - val_mae: 3.8445\n",
            "405/405 [==============================] - 4s 8ms/step - loss: 25.5796 - mae: 4.0057\n",
            "Test MAE: 4.01\n"
          ]
        }
      ]
    },
    {
      "cell_type": "code",
      "source": [
        "import matplotlib.pyplot as plt\n",
        "loss = history.history[\"mae\"]\n",
        "val_loss = history.history[\"val_mae\"]\n",
        "\n",
        "epochs = range(1, len(loss) + 1)\n",
        "plt.figure()\n",
        "plt.plot(epochs, loss, color=\"grey\", linestyle=\"dashed\", label=\"Training MAE\")\n",
        "plt.plot(epochs,  val_loss, color=\"blue\",linestyle=\"dashed\", label=\"Validation MAE\")\n",
        "plt.title(\"Training and validation MAE\")\n",
        "plt.xlabel(\"Epochs\")\n",
        "plt.ylabel(\"MAE\")\n",
        "plt.legend()\n",
        "plt.show()"
      ],
      "metadata": {
        "id": "taIyZQtMsxd5",
        "outputId": "1105b394-ad7f-4952-fa59-69531bacc413",
        "colab": {
          "base_uri": "https://localhost:8080/",
          "height": 472
        }
      },
      "execution_count": null,
      "outputs": [
        {
          "output_type": "display_data",
          "data": {
            "text/plain": [
              "<Figure size 640x480 with 1 Axes>"
            ],
            "image/png": "[encoded data removed]"
          },
          "metadata": {}
        }
      ]
    },
    {
      "cell_type": "code",
      "source": [
        "Models = (\"1\",\"2\",\"3\",\"4\",\"5\",\"6\",\"7\",\"8\",\"9\",\"10\",\"11\",\"12\",\"13\")\n",
        "Mae = (2.62,2.71,3.17,2.59,9.95,9.91,2.69,2.58,2.68,2.65,2.71,2.56,4.01)\n",
        "\n",
        "# MAE Evaluation\n",
        "plt.scatter(Models, Mae, color=\"red\")\n",
        "plt.title(\"MAE Evaluation\")\n",
        "plt.xlabel(\"Model Number\")\n",
        "plt.ylabel(\"MAE\")\n",
        "\n",
        "for (xi, yi) in zip(Models,Mae):\n",
        "    plt.text(xi, yi, yi, va='bottom', ha='center')\n",
        "\n",
        "plt.show()\n",
        "\n"
      ],
      "metadata": {
        "id": "sfrMOkmMtn8o",
        "outputId": "8d94545a-4fe7-4857-b40a-33b41ad8d058",
        "colab": {
          "base_uri": "https://localhost:8080/",
          "height": 472
        }
      },
      "execution_count": 25,
      "outputs": [
        {
          "output_type": "display_data",
          "data": {
            "text/plain": [
              "<Figure size 640x480 with 1 Axes>"
            ],
            "image/png": "[encoded data removed]"
          },
          "metadata": {}
        }
      ]
    }
  ],
  "metadata": {
    "colab": {
      "provenance": [],
      "gpuType": "V100"
    },
    "kernelspec": {
      "display_name": "Python 3",
      "name": "python3"
    },
    "language_info": {
      "codemirror_mode": {
        "name": "ipython",
        "version": 3
      },
      "file_extension": ".py",
      "mimetype": "text/x-python",
      "name": "python",
      "nbconvert_exporter": "python",
      "pygments_lexer": "ipython3",
      "version": "3.7.0"
    },
    "accelerator": "GPU"
  },
  "nbformat": 4,
  "nbformat_minor": 0
}